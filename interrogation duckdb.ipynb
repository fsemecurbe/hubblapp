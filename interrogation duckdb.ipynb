{
 "cells": [
  {
   "cell_type": "code",
   "execution_count": 2,
   "id": "2c9003ec",
   "metadata": {},
   "outputs": [],
   "source": [
    "#!pip install duckdb --proxy=http://proxyvip.national.agri:8080\n",
    "#!pip install httpfs --proxy=http://proxyvip.national.agri:8080"
   ]
  },
  {
   "cell_type": "code",
   "execution_count": 2,
   "id": "2c772017",
   "metadata": {},
   "outputs": [],
   "source": [
    "import pandas as pd\n",
    "import duckdb "
   ]
  },
  {
   "cell_type": "code",
   "execution_count": 3,
   "id": "f7211cd3",
   "metadata": {},
   "outputs": [],
   "source": [
    "url = \"http://minio.lab.sspcloud.fr/h529p3/data/Filosofi2017_carreaux_200m_met.parquet\"\n",
    "carreaux = duckdb.read_parquet(url)   "
   ]
  },
  {
   "cell_type": "code",
   "execution_count": null,
   "id": "ba137cd8",
   "metadata": {},
   "outputs": [],
   "source": [
    "query = \"SELECT * FROM carreaux USING SAMPLE 10 ROWS;\"\n",
    "duckdb.sql(query)"
   ]
  },
  {
   "cell_type": "code",
   "execution_count": 7,
   "id": "584a50d5",
   "metadata": {},
   "outputs": [
    {
     "data": {
      "text/plain": [
       "(2294776, 36)"
      ]
     },
     "execution_count": 7,
     "metadata": {},
     "output_type": "execute_result"
    }
   ],
   "source": [
    "toto.shape"
   ]
  }
 ],
 "metadata": {
  "kernelspec": {
   "display_name": "Python 3 (ipykernel)",
   "language": "python",
   "name": "python3"
  },
  "language_info": {
   "codemirror_mode": {
    "name": "ipython",
    "version": 3
   },
   "file_extension": ".py",
   "mimetype": "text/x-python",
   "name": "python",
   "nbconvert_exporter": "python",
   "pygments_lexer": "ipython3",
   "version": "3.9.7"
  }
 },
 "nbformat": 4,
 "nbformat_minor": 5
}
