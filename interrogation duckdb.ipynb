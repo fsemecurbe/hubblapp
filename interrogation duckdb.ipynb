{
 "cells": [
  {
   "cell_type": "code",
   "execution_count": 2,
   "id": "e0a205d7",
   "metadata": {},
   "outputs": [],
   "source": [
    "#!pip install duckdb --proxy=http://proxyvip.national.agri:8080\n",
    "#!pip install httpfs --proxy=http://proxyvip.national.agri:8080"
   ]
  },
  {
   "cell_type": "code",
   "execution_count": 1,
   "id": "96abe9c7",
   "metadata": {},
   "outputs": [
    {
     "ename": "SyntaxError",
     "evalue": "invalid syntax (Temp/ipykernel_18184/4002611989.py, line 1)",
     "output_type": "error",
     "traceback": [
      "\u001b[1;36m  File \u001b[1;32m\"C:\\Users\\FRANCO~1.SEM\\AppData\\Local\\Temp/ipykernel_18184/4002611989.py\"\u001b[1;36m, line \u001b[1;32m1\u001b[0m\n\u001b[1;33m    set HTTP_PROXYS=https://proxyvip.national.agri:8080\u001b[0m\n\u001b[1;37m        ^\u001b[0m\n\u001b[1;31mSyntaxError\u001b[0m\u001b[1;31m:\u001b[0m invalid syntax\n"
     ]
    }
   ],
   "source": [
    "set HTTP_PROXYS=https://proxyvip.national.agri:8080\n",
    "set HTTP_PROXY=http://proxyvip.national.agri:8080"
   ]
  },
  {
   "cell_type": "code",
   "execution_count": 1,
   "id": "c94b9a0d",
   "metadata": {},
   "outputs": [],
   "source": [
    "import pandas as pd\n",
    "import geopandas as gpd\n",
    "import duckdb "
   ]
  },
  {
   "cell_type": "code",
   "execution_count": 2,
   "id": "b6d7d3c3",
   "metadata": {},
   "outputs": [],
   "source": [
    "duckdb.sql('LOAD httpfs ;INSTALL spatial; LOAD spatial;')"
   ]
  },
  {
   "cell_type": "code",
   "execution_count": 3,
   "id": "5eaf7446",
   "metadata": {},
   "outputs": [],
   "source": [
    "url = \"http://minio.lab.sspcloud.fr/h529p3/data/Filosofi2017_carreaux_200m_met.parquet\"\n",
    "url = \"Filosofi2017_carreaux_200m_met.parquet\"\n",
    "#url = \"http://minio.lab.sspcloud.fr/h529p3/data/Filosofi2017_carreaux_200m_partition/*/*.parquet'\"\n",
    "#url =\"https://static.data.gouv.fr/resources/sirene-geolocalise-parquet/20240107-143656/sirene2024-geo.parquet\"\n",
    "#url =\"https://static.data.gouv.fr/resources/recensement-de-la-population-fichiers-detail-individus-localises-au-canton-ou-ville-2020-1/20231023-122841/fd-indcvi-2020.parquet\""
   ]
  },
  {
   "cell_type": "code",
   "execution_count": 4,
   "id": "4b4d3967",
   "metadata": {},
   "outputs": [],
   "source": [
    "duckdb.sql(f'''\n",
    "  CREATE OR REPLACE VIEW carreaux\n",
    "  AS SELECT * FROM read_parquet(\"{url}\") \n",
    "'''\n",
    ")"
   ]
  },
  {
   "cell_type": "markdown",
   "id": "b898a781",
   "metadata": {},
   "source": [
    "Requetage des carreaux à 1km de notre dame"
   ]
  },
  {
   "cell_type": "code",
   "execution_count": 5,
   "id": "03b38d8d",
   "metadata": {},
   "outputs": [],
   "source": [
    "latitude = 48.853\n",
    "longitude = 2.35\n",
    "rayon = 1000"
   ]
  },
  {
   "cell_type": "code",
   "execution_count": 159,
   "id": "6323273a",
   "metadata": {},
   "outputs": [],
   "source": [
    "coordonnees_ctr_hubblo = duckdb.sql(\n",
    "f''' \n",
    "select st_x(geo) as x, st_y(geo) as y from\n",
    "(select ST_Transform(ST_Point({latitude} , {longitude}),'EPSG:4326', 'EPSG:2154') as geo) ''').df()\n",
    "x_hubblo = coordonnees_ctr_hubblo.x[0]\n",
    "y_hubblo = coordonnees_ctr_hubblo.y[0]"
   ]
  },
  {
   "cell_type": "code",
   "execution_count": 174,
   "id": "68720bb3",
   "metadata": {},
   "outputs": [
    {
     "data": {
      "text/plain": [
       "┌───────────────────┬────────────────────┬───────────────────┬───┬────────────────────┬────────────────────┐\n",
       "│        Ind        │      Men_1ind      │     Men_5ind      │ … │      Men_pauv      │        Men         │\n",
       "│      double       │       double       │      double       │   │       double       │       double       │\n",
       "├───────────────────┼────────────────────┼───────────────────┼───┼────────────────────┼────────────────────┤\n",
       "│ 49333.70344815229 │ 14808.528829264807 │ 937.1438321337375 │ … │ 4077.6481360048256 │ 27396.886667738083 │\n",
       "├───────────────────┴────────────────────┴───────────────────┴───┴────────────────────┴────────────────────┤\n",
       "│ 1 rows                                                                              28 columns (5 shown) │\n",
       "└──────────────────────────────────────────────────────────────────────────────────────────────────────────┘"
      ]
     },
     "execution_count": 174,
     "metadata": {},
     "output_type": "execute_result"
    }
   ],
   "source": [
    "duckdb.sql(\n",
    "f'''\n",
    "\n",
    "select sum(Ind*coeff) as Ind,\n",
    "       sum(Men_1ind*coeff) as Men_1ind, \n",
    "       sum(Men_5ind*coeff) as Men_5ind, \n",
    "       sum(Men_prop*coeff) as Men_prop, \n",
    "       sum(Men_fmp*coeff) as Men_fmp,\n",
    "       sum(Ind_snv*coeff) as Ind_snv, \n",
    "       sum(Men_surf*coeff) as Men_surf, \n",
    "       sum(Men_coll*coeff) as Men_coll, \n",
    "       sum(Men_mais*coeff) as Men_mais, \n",
    "       sum(Log_av45*coeff) as Log_av45, \n",
    "       sum(Log_45_70*coeff) as Log_45_70,\n",
    "       sum(Log_70_90*coeff) as Log_70_90, \n",
    "       sum(Log_ap90*coeff) as Log_ap90, \n",
    "       sum(Log_inc*coeff) as Log_inc, \n",
    "       sum(Log_soc*coeff) as Log_soc, \n",
    "       sum(Ind_0_3*coeff) as Ind_0_3, \n",
    "       sum(Ind_4_5*coeff) as Ind_4_5,\n",
    "       sum(Ind_6_10*coeff) as Ind_6_10, \n",
    "       sum(Ind_11_17*coeff) as Ind_11_17, \n",
    "       sum(Ind_18_24*coeff) as Ind_18_24, \n",
    "       sum(Ind_25_39*coeff) as Ind_25_39, \n",
    "       sum(Ind_40_54*coeff) as Ind_40_54,\n",
    "       sum(Ind_55_64*coeff) as Ind_55_64, \n",
    "       sum(Ind_65_79*coeff) as Ind_65_79, \n",
    "       sum(Ind_80p*coeff) as Ind_80p, \n",
    "       sum(Ind_inc*coeff) as Ind_inc,  \n",
    "       sum(Men_pauv*coeff) as Men_pauv,\n",
    "       sum(Men*coeff) as Men \n",
    "       \n",
    "from \n",
    "(\n",
    "select *, st_area(st_intersection(ST_GEOMFROMWKB(geometry), \n",
    "         (SELECT ST_BUFFER(ST_POINT({x_hubblo},{y_hubblo}),{rayon}))))/st_area(ST_GEOMFROMWKB(geometry)) as coeff  \n",
    "         from  \n",
    "(select * from carreaux\n",
    "where carreaux.x > ({x_hubblo}-{rayon}-200) and\n",
    "      carreaux.x < ({x_hubblo}+{rayon}+200) and\n",
    "      carreaux.y > ({y_hubblo}-{rayon}-200) and\n",
    "      carreaux.y < ({y_hubblo}+{rayon}+200)) as temp\n",
    "where st_intersects(ST_GEOMFROMWKB(temp.geometry),(SELECT ST_BUFFER(geo,{rayon}) from ctr_hubblo)))\n",
    "'''\n",
    ")"
   ]
  },
  {
   "cell_type": "code",
   "execution_count": null,
   "id": "5e2a34a9",
   "metadata": {},
   "outputs": [],
   "source": []
  },
  {
   "cell_type": "code",
   "execution_count": null,
   "id": "e81608cb",
   "metadata": {},
   "outputs": [],
   "source": []
  },
  {
   "cell_type": "code",
   "execution_count": null,
   "id": "3fc66577",
   "metadata": {},
   "outputs": [],
   "source": []
  },
  {
   "cell_type": "code",
   "execution_count": 119,
   "id": "c4ff08e9",
   "metadata": {},
   "outputs": [
    {
     "data": {
      "text/plain": [
       "Index(['Idcar_200m', 'I_est_200', 'Idcar_1km', 'I_est_1km', 'Idcar_nat',\n",
       "       'Groupe', 'Ind', 'Men_1ind', 'Men_5ind', 'Men_prop', 'Men_fmp',\n",
       "       'Ind_snv', 'Men_surf', 'Men_coll', 'Men_mais', 'Log_av45', 'Log_45_70',\n",
       "       'Log_70_90', 'Log_ap90', 'Log_inc', 'Log_soc', 'Ind_0_3', 'Ind_4_5',\n",
       "       'Ind_6_10', 'Ind_11_17', 'Ind_18_24', 'Ind_25_39', 'Ind_40_54',\n",
       "       'Ind_55_64', 'Ind_65_79', 'Ind_80p', 'Ind_inc', 'Men_pauv', 'Men',\n",
       "       'lcog_geo', 'geometry', 'x', 'y', '__index_level_0__',\n",
       "       '__index_level_1__', '__index_level_2__'],\n",
       "      dtype='object')"
      ]
     },
     "execution_count": 119,
     "metadata": {},
     "output_type": "execute_result"
    }
   ],
   "source": [
    "duckdb.sql('''from carreaux \n",
    "            select * limit 10; ''').df().columns"
   ]
  },
  {
   "cell_type": "code",
   "execution_count": 35,
   "id": "e268d759",
   "metadata": {},
   "outputs": [
    {
     "data": {
      "application/vnd.jupyter.widget-view+json": {
       "model_id": "6402b09bd5ea4bcabd06f7a796350bb6",
       "version_major": 2,
       "version_minor": 0
      },
      "text/plain": [
       "FloatProgress(value=0.0, layout=Layout(width='auto'), style=ProgressStyle(bar_color='black'))"
      ]
     },
     "metadata": {},
     "output_type": "display_data"
    },
    {
     "data": {
      "text/plain": [
       "┌──────────────────────┬──────────────────────┬───────────┬───┬───────────────────┬────────────────────┐\n",
       "│         geo          │      Idcar_200m      │ I_est_200 │ … │ __index_level_1__ │ __index_level_2__  │\n",
       "│       geometry       │       varchar        │   int64   │   │      double       │       double       │\n",
       "├──────────────────────┼──────────────────────┼───────────┼───┼───────────────────┼────────────────────┤\n",
       "│ POINT (652304.3107…  │ CRS3035RES200mN289…  │         0 │ … │  651325.286367202 │  6862743.843861913 │\n",
       "│ POINT (652304.3107…  │ CRS3035RES200mN288…  │         0 │ … │ 651960.2608834291 │  6862403.233705901 │\n",
       "│ POINT (652304.3107…  │ CRS3035RES200mN289…  │         0 │ … │ 651524.4928184762 │  6862762.950441208 │\n",
       "│ POINT (652304.3107…  │ CRS3035RES200mN289…  │         0 │ … │ 651723.6992050873 │  6862782.056535732 │\n",
       "│ POINT (652304.3107…  │ CRS3035RES200mN289…  │         0 │ … │ 651922.9055270783 │  6862801.162145468 │\n",
       "│ POINT (652304.3107…  │ CRS3035RES200mN288…  │         0 │ … │ 651761.0551913801 │  6862384.128485699 │\n",
       "│ POINT (652304.3107…  │ CRS3035RES200mN288…  │         0 │ … │ 651561.8494346548 │  6862365.022780819 │\n",
       "│ POINT (652304.3107…  │ CRS3035RES200mN289…  │         0 │ … │ 651941.5834326781 │  6862602.197852682 │\n",
       "│ POINT (652304.3107…  │ CRS3035RES200mN289…  │         0 │ … │ 652140.7893750162 │  6862621.302782882 │\n",
       "│ POINT (652304.3107…  │ CRS3035RES200mN289…  │         0 │ … │ 651126.0798512219 │  6862724.736797868 │\n",
       "│          ·           │          ·           │         · │ · │         ·         │          ·         │\n",
       "│          ·           │          ·           │         · │ · │         ·         │          ·         │\n",
       "│          ·           │          ·           │         · │ · │         ·         │          ·         │\n",
       "│ POINT (652304.3107…  │ CRS3035RES200mN288…  │         0 │ … │ 651381.3215533044 │  6862146.953174549 │\n",
       "│ POINT (652304.3107…  │ CRS3035RES200mN288…  │         0 │ … │   651599.20423041 │  6861967.095703149 │\n",
       "│ POINT (652304.3107…  │ CRS3035RES200mN288…  │         0 │ … │  651817.085758779 │ 6861787.2375029065 │\n",
       "│ POINT (652304.3107…  │ CRS3035RES200mN288…  │         0 │ … │ 651655.2330115613 │  6861370.206174888 │\n",
       "│ POINT (652304.3107…  │ CRS3035RES200mN288…  │         0 │ … │ 651331.5256306278 │  6860536.146132308 │\n",
       "│ POINT (652304.3107…  │ CRS3035RES200mN288…  │         0 │ … │ 651673.9083621354 │  6861171.243288007 │\n",
       "│ POINT (652304.3107…  │ CRS3035RES200mN288…  │         0 │ … │  651835.761704887 │  6861588.274132252 │\n",
       "│ POINT (652304.3107…  │ CRS3035RES200mN288…  │         0 │ … │ 651512.0543906557 │  6860754.213314524 │\n",
       "│ POINT (652304.3107…  │ CRS3035RES200mN288…  │         0 │ … │ 653504.0845552044 │  6860945.237842683 │\n",
       "│ POINT (652304.3107…  │ CRS3035RES200mN288…  │         0 │ … │ 653342.2243313417 │  6860528.209694558 │\n",
       "├──────────────────────┴──────────────────────┴───────────┴───┴───────────────────┴────────────────────┤\n",
       "│ 132 rows (20 shown)                                                             42 columns (5 shown) │\n",
       "└──────────────────────────────────────────────────────────────────────────────────────────────────────┘"
      ]
     },
     "execution_count": 35,
     "metadata": {},
     "output_type": "execute_result"
    }
   ],
   "source": [
    "duckdb.sql(\n",
    "f'''\n",
    "select * from\n",
    "(select  ST_Transform(ST_Point({48.853} , {2.35}),'EPSG:4326', 'EPSG:2154') as geo), carreaux \n",
    "where (abs(carreaux.x - ST_X(geo))<1200 and (abs(carreaux.y - ST_Y(geo))<1200))\n",
    "\n",
    "'''\n",
    ")"
   ]
  },
  {
   "cell_type": "code",
   "execution_count": 44,
   "id": "43187c5b",
   "metadata": {},
   "outputs": [
    {
     "data": {
      "application/vnd.jupyter.widget-view+json": {
       "model_id": "33a5c784fdd14eb2a2fad2a3c2960610",
       "version_major": 2,
       "version_minor": 0
      },
      "text/plain": [
       "FloatProgress(value=0.0, layout=Layout(width='auto'), style=ProgressStyle(bar_color='black'))"
      ]
     },
     "metadata": {},
     "output_type": "display_data"
    },
    {
     "data": {
      "text/plain": [
       "┌──────────────────────┬──────────────────────┬───────────┬───┬───────────────────┬────────────────────┐\n",
       "│         geo          │      Idcar_200m      │ I_est_200 │ … │ __index_level_1__ │ __index_level_2__  │\n",
       "│       geometry       │       varchar        │   int64   │   │      double       │       double       │\n",
       "├──────────────────────┼──────────────────────┼───────────┼───┼───────────────────┼────────────────────┤\n",
       "│ POINT (652304.3107…  │ CRS3035RES200mN289…  │         0 │ … │  651325.286367202 │  6862743.843861913 │\n",
       "│ POINT (652304.3107…  │ CRS3035RES200mN288…  │         0 │ … │ 651960.2608834291 │  6862403.233705901 │\n",
       "│ POINT (652304.3107…  │ CRS3035RES200mN289…  │         0 │ … │ 651524.4928184762 │  6862762.950441208 │\n",
       "│ POINT (652304.3107…  │ CRS3035RES200mN289…  │         0 │ … │ 651723.6992050873 │  6862782.056535732 │\n",
       "│ POINT (652304.3107…  │ CRS3035RES200mN289…  │         0 │ … │ 651922.9055270783 │  6862801.162145468 │\n",
       "│ POINT (652304.3107…  │ CRS3035RES200mN288…  │         0 │ … │ 651761.0551913801 │  6862384.128485699 │\n",
       "│ POINT (652304.3107…  │ CRS3035RES200mN288…  │         0 │ … │ 651561.8494346548 │  6862365.022780819 │\n",
       "│ POINT (652304.3107…  │ CRS3035RES200mN289…  │         0 │ … │ 651941.5834326781 │  6862602.197852682 │\n",
       "│ POINT (652304.3107…  │ CRS3035RES200mN289…  │         0 │ … │ 652140.7893750162 │  6862621.302782882 │\n",
       "│ POINT (652304.3107…  │ CRS3035RES200mN289…  │         0 │ … │ 651126.0798512219 │  6862724.736797868 │\n",
       "│          ·           │          ·           │         · │ · │         ·         │          ·         │\n",
       "│          ·           │          ·           │         · │ · │         ·         │          ·         │\n",
       "│          ·           │          ·           │         · │ · │         ·         │          ·         │\n",
       "│ POINT (652304.3107…  │ CRS3035RES200mN288…  │         0 │ … │ 651381.3215533044 │  6862146.953174549 │\n",
       "│ POINT (652304.3107…  │ CRS3035RES200mN288…  │         0 │ … │   651599.20423041 │  6861967.095703149 │\n",
       "│ POINT (652304.3107…  │ CRS3035RES200mN288…  │         0 │ … │  651817.085758779 │ 6861787.2375029065 │\n",
       "│ POINT (652304.3107…  │ CRS3035RES200mN288…  │         0 │ … │ 651655.2330115613 │  6861370.206174888 │\n",
       "│ POINT (652304.3107…  │ CRS3035RES200mN288…  │         0 │ … │ 651331.5256306278 │  6860536.146132308 │\n",
       "│ POINT (652304.3107…  │ CRS3035RES200mN288…  │         0 │ … │ 651673.9083621354 │  6861171.243288007 │\n",
       "│ POINT (652304.3107…  │ CRS3035RES200mN288…  │         0 │ … │  651835.761704887 │  6861588.274132252 │\n",
       "│ POINT (652304.3107…  │ CRS3035RES200mN288…  │         0 │ … │ 651512.0543906557 │  6860754.213314524 │\n",
       "│ POINT (652304.3107…  │ CRS3035RES200mN288…  │         0 │ … │ 653504.0845552044 │  6860945.237842683 │\n",
       "│ POINT (652304.3107…  │ CRS3035RES200mN288…  │         0 │ … │ 653342.2243313417 │  6860528.209694558 │\n",
       "├──────────────────────┴──────────────────────┴───────────┴───┴───────────────────┴────────────────────┤\n",
       "│ 132 rows (20 shown)                                                             42 columns (5 shown) │\n",
       "└──────────────────────────────────────────────────────────────────────────────────────────────────────┘"
      ]
     },
     "execution_count": 44,
     "metadata": {},
     "output_type": "execute_result"
    }
   ],
   "source": [
    "duckdb.sql(\n",
    "f'''\n",
    "select * from\n",
    "(select  ST_Transform(ST_Point({48.853} , {2.35}),'EPSG:4326', 'EPSG:2154') as geo), carreaux \n",
    "where (carreaux.x > (ST_X(geo) - 1200)) and\n",
    "      (carreaux.x < (ST_X(geo) + 1200)) and\n",
    "      (carreaux.y > (ST_Y(geo) - 1200)) and\n",
    "      (carreaux.y < (ST_Y(geo) + 1200)) ;\n",
    "\n",
    "\n",
    "'''\n",
    ")"
   ]
  },
  {
   "cell_type": "code",
   "execution_count": 59,
   "id": "41226383",
   "metadata": {},
   "outputs": [],
   "source": [
    "a=duckdb.sql(\n",
    "f'''\n",
    "create or replace table ctr_hubblo as \n",
    "(select ST_Transform(ST_Point({48.853} , {2.35}),'EPSG:4326', 'EPSG:2154') as geo );\n",
    "\n",
    "create or replace table hubblo_ag as \n",
    "select sum(Ind) from carreaux\n",
    "where carreaux.x >(select st_x(geo)-1200 from ctr_hubblo2) and\n",
    "      carreaux.x <(select st_x(geo)+1200 from ctr_hubblo2) and\n",
    "      carreaux.y >(select st_y(geo)-1200 from ctr_hubblo2) and\n",
    "      carreaux.y <(select st_y(geo)+1200 from ctr_hubblo2); \n",
    "\n",
    "'''\n",
    ")"
   ]
  },
  {
   "cell_type": "code",
   "execution_count": 79,
   "id": "712056ff",
   "metadata": {},
   "outputs": [
    {
     "data": {
      "text/plain": [
       "┌──────────┐\n",
       "│ sum(Ind) │\n",
       "│  double  │\n",
       "├──────────┤\n",
       "│  64826.0 │\n",
       "└──────────┘"
      ]
     },
     "execution_count": 79,
     "metadata": {},
     "output_type": "execute_result"
    }
   ],
   "source": [
    "duckdb.sql(\n",
    "f'''\n",
    "create or replace table ctr_hubblo as \n",
    "(select ST_Transform(ST_Point({48.853} , {2.35}),'EPSG:4326', 'EPSG:2154') as geo );\n",
    "\n",
    "select sum(Ind) from  \n",
    "(select * from carreaux\n",
    "where carreaux.x >(select st_x(geo)-1200 from ctr_hubblo2) and\n",
    "      carreaux.x <(select st_x(geo)+1200 from ctr_hubblo2) and\n",
    "      carreaux.y >(select st_y(geo)-1200 from ctr_hubblo2) and\n",
    "      carreaux.y <(select st_y(geo)+1200 from ctr_hubblo2)) as temp\n",
    "where st_intersects(ST_GEOMFROMWKB(temp.geometry),(SELECT ST_BUFFER(geo,1000) from ctr_hubblo))\n",
    "\n",
    "'''\n",
    ")"
   ]
  },
  {
   "cell_type": "code",
   "execution_count": null,
   "id": "2a2bb83d",
   "metadata": {},
   "outputs": [],
   "source": [
    "duckdb.sql(\n",
    "f'''\n",
    "create or replace table ctr_hubblo as \n",
    "(select ST_Transform(ST_Point({48.853} , {2.35}),'EPSG:4326', 'EPSG:2154') as geo );\n",
    "\n",
    "select sum(Ind) from  \n",
    "(select * from carreaux\n",
    "where carreaux.x >(select st_x(geo)-1200 from ctr_hubblo2) and\n",
    "      carreaux.x <(select st_x(geo)+1200 from ctr_hubblo2) and\n",
    "      carreaux.y >(select st_y(geo)-1200 from ctr_hubblo2) and\n",
    "      carreaux.y <(select st_y(geo)+1200 from ctr_hubblo2)) as temp\n",
    "where st_intersects(ST_GEOMFROMWKB(temp.geometry),(SELECT ST_BUFFER(geo,1000) from ctr_hubblo))\n",
    "\n",
    "'''\n",
    ")"
   ]
  },
  {
   "cell_type": "code",
   "execution_count": 136,
   "id": "b13b25f6",
   "metadata": {},
   "outputs": [
    {
     "data": {
      "text/plain": [
       "┌───────────────────┬────────────────────┐\n",
       "│        Ind        │        Men         │\n",
       "│      double       │       double       │\n",
       "├───────────────────┼────────────────────┤\n",
       "│ 49333.70344815229 │ 27396.886667738083 │\n",
       "└───────────────────┴────────────────────┘"
      ]
     },
     "execution_count": 136,
     "metadata": {},
     "output_type": "execute_result"
    }
   ],
   "source": [
    "duckdb.sql(\n",
    "f'''\n",
    "create or replace table ctr_hubblo as \n",
    "(select ST_Transform(ST_Point({latitude} , {longitude}),'EPSG:4326', 'EPSG:2154') as geo );\n",
    "\n",
    "select sum(Ind*coeff) as Ind,\n",
    "       sum(Men*coeff) as Men  \n",
    "from \n",
    "(\n",
    "select *, st_area(st_intersection(ST_GEOMFROMWKB(geometry), (SELECT ST_BUFFER(geo,1000) from ctr_hubblo)))/st_area(ST_GEOMFROMWKB(geometry)) as coeff  from  \n",
    "(select * from carreaux\n",
    "where carreaux.__index_level_1__ >(select st_x(geo)-{rayon}-200 from ctr_hubblo2) and\n",
    "      carreaux.__index_level_1__ <(select st_x(geo)+{rayon}+200 from ctr_hubblo2) and\n",
    "      carreaux.__index_level_2__ >(select st_y(geo)-{rayon}-200 from ctr_hubblo2) and\n",
    "      carreaux.__index_level_2__ <(select st_y(geo)+{rayon}+200 from ctr_hubblo2)) as temp\n",
    "where st_intersects(ST_GEOMFROMWKB(temp.geometry),(SELECT ST_BUFFER(geo,{rayon}) from ctr_hubblo)))\n",
    "'''\n",
    ")"
   ]
  },
  {
   "cell_type": "code",
   "execution_count": 153,
   "id": "cdac8c68",
   "metadata": {},
   "outputs": [],
   "source": [
    "coordonnees_ctr_hubblo = duckdb.sql(\n",
    "f''' \n",
    "select st_x(geo) as x, st_y(geo) as y from\n",
    "(select ST_Transform(ST_Point({latitude} , {longitude}),'EPSG:4326', 'EPSG:2154') as geo) ''').df()\n",
    "coordonnees_ctr_hubblo_x = coordonnees_ctr_hubblo.x[0]\n",
    "coordonnees_ctr_hubblo_y = coordonnees_ctr_hubblo.y[0]"
   ]
  },
  {
   "cell_type": "code",
   "execution_count": 156,
   "id": "67a2c3b4",
   "metadata": {},
   "outputs": [],
   "source": []
  },
  {
   "cell_type": "code",
   "execution_count": 138,
   "id": "4e933856",
   "metadata": {},
   "outputs": [],
   "source": [
    "a=duckdb.sql(\n",
    "f'''\n",
    "create or replace table ctr_hubblo as \n",
    "(select ST_Transform(ST_Point({latitude} , {longitude}),'EPSG:4326', 'EPSG:2154') as geo );\n",
    "\n",
    "select sum(Ind*coeff) as Ind,\n",
    "       sum(Men_1ind*coeff) as Men_1ind, \n",
    "       sum(Men_5ind*coeff) as Men_5ind, \n",
    "       sum(Men_prop*coeff) as Men_prop, \n",
    "       sum(Men_fmp*coeff) as Men_fmp,\n",
    "       sum(Ind_snv*coeff) as Ind_snv, \n",
    "       sum(Men_surf*coeff) as Men_surf, \n",
    "       sum(Men_coll*coeff) as Men_coll, \n",
    "       sum(Men_mais*coeff) as Men_mais, \n",
    "       sum(Log_av45*coeff) as Log_av45, \n",
    "       sum(Log_45_70*coeff) as Log_45_70,\n",
    "       sum(Log_70_90*coeff) as Log_70_90, \n",
    "       sum(Log_ap90*coeff) as Log_ap90, \n",
    "       sum(Log_inc*coeff) as Log_inc, \n",
    "       sum(Log_soc*coeff) as Log_soc, \n",
    "       sum(Ind_0_3*coeff) as Ind_0_3, \n",
    "       sum(Ind_4_5*coeff) as Ind_4_5,\n",
    "       sum(Ind_6_10*coeff) as Ind_6_10, \n",
    "       sum(Ind_11_17*coeff) as Ind_11_17, \n",
    "       sum(Ind_18_24*coeff) as Ind_18_24, \n",
    "       sum(Ind_25_39*coeff) as Ind_25_39, \n",
    "       sum(Ind_40_54*coeff) as Ind_40_54,\n",
    "       sum(Ind_55_64*coeff) as Ind_55_64, \n",
    "       sum(Ind_65_79*coeff) as Ind_65_79, \n",
    "       sum(Ind_80p*coeff) as Ind_80p, \n",
    "       sum(Ind_inc*coeff) as Ind_inc,  \n",
    "       sum(Men_pauv*coeff) as Men_pauv,\n",
    "       sum(Men*coeff) as Men \n",
    "       \n",
    "from \n",
    "(\n",
    "select *, st_area(st_intersection(ST_GEOMFROMWKB(geometry), (SELECT ST_BUFFER(geo,1000) from ctr_hubblo)))/st_area(ST_GEOMFROMWKB(geometry)) as coeff  from  \n",
    "(select * from carreaux\n",
    "where carreaux.x >(select st_x(geo)-{rayon}-200 from ctr_hubblo2) and\n",
    "      carreaux.x <(select st_x(geo)+{rayon}+200 from ctr_hubblo2) and\n",
    "      carreaux.y >(select st_y(geo)-{rayon}-200 from ctr_hubblo2) and\n",
    "      carreaux.y <(select st_y(geo)+{rayon}+200 from ctr_hubblo2)) as temp\n",
    "where st_intersects(ST_GEOMFROMWKB(temp.geometry),(SELECT ST_BUFFER(geo,{rayon}) from ctr_hubblo)))\n",
    "'''\n",
    ")"
   ]
  },
  {
   "cell_type": "code",
   "execution_count": 71,
   "id": "201895d2",
   "metadata": {},
   "outputs": [
    {
     "name": "stdout",
     "output_type": "stream",
     "text": [
      "14.7 ns ± 2.39 ns per loop (mean ± std. dev. of 7 runs, 100000000 loops each)\n"
     ]
    },
    {
     "data": {
      "text/plain": [
       "┌──────────┐\n",
       "│ sum(Ind) │\n",
       "│  double  │\n",
       "├──────────┤\n",
       "│  64826.0 │\n",
       "└──────────┘"
      ]
     },
     "execution_count": 71,
     "metadata": {},
     "output_type": "execute_result"
    }
   ],
   "source": [
    "%timeit 10\n",
    "duckdb.sql(\n",
    "f'''select sum(Ind) from carreaux, (SELECT ST_BUFFER(ST_Transform(ST_Point({latitude} , {longitude}),'EPSG:4326', 'EPSG:2154'),{rayon}) AS hubblo) '''\\\n",
    "\"where st_intersects(ST_GEOMFROMWKB(carreaux.geometry), hubblo)\"\n",
    "\n",
    ")"
   ]
  },
  {
   "cell_type": "code",
   "execution_count": 13,
   "id": "e42924e9",
   "metadata": {},
   "outputs": [
    {
     "data": {
      "text/plain": [
       "┌───────────────────┬───────────────────┐\n",
       "│     st_x(geo)     │     st_y(geo)     │\n",
       "│      double       │      double       │\n",
       "├───────────────────┼───────────────────┤\n",
       "│ 652304.3107785692 │ 6861636.298107567 │\n",
       "└───────────────────┴───────────────────┘"
      ]
     },
     "execution_count": 13,
     "metadata": {},
     "output_type": "execute_result"
    }
   ],
   "source": [
    "duckdb.sql(f'''select ST_X(geo), ST_Y(geo) from  ctr_hubblo2''')"
   ]
  },
  {
   "cell_type": "code",
   "execution_count": 29,
   "id": "258c2379",
   "metadata": {},
   "outputs": [
    {
     "name": "stdout",
     "output_type": "stream",
     "text": [
      "14.4 ns ± 1.33 ns per loop (mean ± std. dev. of 7 runs, 100000000 loops each)\n"
     ]
    }
   ],
   "source": [
    "%timeit 3\n",
    "a=duckdb.sql(\n",
    "f'''\n",
    "\n",
    "select * from carreaux\n",
    "where carreaux.x >(652304.3107785692 - 1200) and\n",
    "      carreaux.x <(652304.3107785692 + 1200) and\n",
    "      carreaux.y >(6861636.298107567-1200) and\n",
    "      carreaux.y <(6861636.298107567+1200) \n",
    "\n",
    "\n",
    "\n",
    "'''\n",
    ")"
   ]
  },
  {
   "cell_type": "code",
   "execution_count": 38,
   "id": "d0649ac9",
   "metadata": {},
   "outputs": [],
   "source": [
    "a=duckdb.sql(\n",
    "f'''\n",
    "\n",
    "select sum(Ind) from carreaux\n",
    "where carreaux.x >(652304.3107785692 - 1200) and\n",
    "      carreaux.x <(652304.3107785692 + 1200) and\n",
    "      carreaux.y >(6861636.298107567-1200) and\n",
    "      carreaux.y <(6861636.298107567+1200); \n",
    "\n",
    "\n",
    "\n",
    "'''\n",
    ")"
   ]
  },
  {
   "cell_type": "code",
   "execution_count": 39,
   "id": "3692bdde",
   "metadata": {},
   "outputs": [
    {
     "data": {
      "text/html": [
       "<div>\n",
       "<style scoped>\n",
       "    .dataframe tbody tr th:only-of-type {\n",
       "        vertical-align: middle;\n",
       "    }\n",
       "\n",
       "    .dataframe tbody tr th {\n",
       "        vertical-align: top;\n",
       "    }\n",
       "\n",
       "    .dataframe thead th {\n",
       "        text-align: right;\n",
       "    }\n",
       "</style>\n",
       "<table border=\"1\" class=\"dataframe\">\n",
       "  <thead>\n",
       "    <tr style=\"text-align: right;\">\n",
       "      <th></th>\n",
       "      <th>sum(Ind)</th>\n",
       "    </tr>\n",
       "  </thead>\n",
       "  <tbody>\n",
       "    <tr>\n",
       "      <th>0</th>\n",
       "      <td>87102.0</td>\n",
       "    </tr>\n",
       "  </tbody>\n",
       "</table>\n",
       "</div>"
      ],
      "text/plain": [
       "   sum(Ind)\n",
       "0   87102.0"
      ]
     },
     "execution_count": 39,
     "metadata": {},
     "output_type": "execute_result"
    }
   ],
   "source": [
    "a.df()"
   ]
  },
  {
   "cell_type": "code",
   "execution_count": 10,
   "id": "ca0556b9",
   "metadata": {},
   "outputs": [
    {
     "data": {
      "application/vnd.jupyter.widget-view+json": {
       "model_id": "a3b9823db899406e9a9028683a7ac981",
       "version_major": 2,
       "version_minor": 0
      },
      "text/plain": [
       "FloatProgress(value=0.0, layout=Layout(width='auto'), style=ProgressStyle(bar_color='black'))"
      ]
     },
     "metadata": {},
     "output_type": "display_data"
    },
    {
     "data": {
      "text/plain": [
       "┌──────────────────────┬───────────┬──────────────────────┬───┬────────────────────┬──────────────────────┐\n",
       "│      Idcar_200m      │ I_est_200 │      Idcar_1km       │ … │ __index_level_2__  │        hubblo        │\n",
       "│       varchar        │   int64   │       varchar        │   │       double       │       geometry       │\n",
       "├──────────────────────┼───────────┼──────────────────────┼───┼────────────────────┼──────────────────────┤\n",
       "│ CRS3035RES200mN288…  │         0 │ CRS3035RES1000mN28…  │ … │  6862403.233705901 │ POLYGON ((653304.3…  │\n",
       "│ CRS3035RES200mN288…  │         0 │ CRS3035RES1000mN28…  │ … │  6862384.128485699 │ POLYGON ((653304.3…  │\n",
       "│ CRS3035RES200mN288…  │         0 │ CRS3035RES1000mN28…  │ … │  6862365.022780819 │ POLYGON ((653304.3…  │\n",
       "│ CRS3035RES200mN289…  │         0 │ CRS3035RES1000mN28…  │ … │  6862602.197852682 │ POLYGON ((653304.3…  │\n",
       "│ CRS3035RES200mN289…  │         0 │ CRS3035RES1000mN28…  │ … │  6862621.302782882 │ POLYGON ((653304.3…  │\n",
       "│ CRS3035RES200mN289…  │         0 │ CRS3035RES1000mN28…  │ … │  6862583.092437733 │ POLYGON ((653304.3…  │\n",
       "│ CRS3035RES200mN288…  │         0 │ CRS3035RES1000mN28…  │ … │  6862204.269704873 │ POLYGON ((653304.3…  │\n",
       "│ CRS3035RES200mN288…  │         0 │ CRS3035RES1000mN28…  │ … │  6862185.164679384 │ POLYGON ((653304.3…  │\n",
       "│ CRS3035RES200mN289…  │         0 │ CRS3035RES1000mN28…  │ … │  6862640.407228312 │ POLYGON ((653304.3…  │\n",
       "│ CRS3035RES200mN288…  │         0 │ CRS3035RES1000mN28…  │ … │  6862422.338441405 │ POLYGON ((653304.3…  │\n",
       "│          ·           │         · │          ·           │ · │          ·         │          ·           │\n",
       "│          ·           │         · │          ·           │ · │          ·         │          ·           │\n",
       "│          ·           │         · │          ·           │ · │          ·         │          ·           │\n",
       "│ CRS3035RES200mN288…  │         0 │ CRS3035RES1000mN28…  │ … │  6861569.169206208 │ POLYGON ((653304.3…  │\n",
       "│ CRS3035RES200mN288…  │         0 │ CRS3035RES1000mN28…  │ … │ 6861152.1382668195 │ POLYGON ((653304.3…  │\n",
       "│ CRS3035RES200mN288…  │         0 │ CRS3035RES1000mN28…  │ … │  6861331.995258881 │ POLYGON ((653304.3…  │\n",
       "│ CRS3035RES200mN288…  │         0 │ CRS3035RES1000mN28…  │ … │  6861947.989903212 │ POLYGON ((653304.3…  │\n",
       "│ CRS3035RES200mN288…  │         0 │ CRS3035RES1000mN28…  │ … │  6862146.953174549 │ POLYGON ((653304.3…  │\n",
       "│ CRS3035RES200mN288…  │         0 │ CRS3035RES1000mN28…  │ … │  6861967.095703149 │ POLYGON ((653304.3…  │\n",
       "│ CRS3035RES200mN288…  │         0 │ CRS3035RES1000mN28…  │ … │ 6861787.2375029065 │ POLYGON ((653304.3…  │\n",
       "│ CRS3035RES200mN288…  │         0 │ CRS3035RES1000mN28…  │ … │  6861370.206174888 │ POLYGON ((653304.3…  │\n",
       "│ CRS3035RES200mN288…  │         0 │ CRS3035RES1000mN28…  │ … │  6861171.243288007 │ POLYGON ((653304.3…  │\n",
       "│ CRS3035RES200mN288…  │         0 │ CRS3035RES1000mN28…  │ … │  6861588.274132252 │ POLYGON ((653304.3…  │\n",
       "├──────────────────────┴───────────┴──────────────────────┴───┴────────────────────┴──────────────────────┤\n",
       "│ 95 rows (20 shown)                                                                 42 columns (5 shown) │\n",
       "└─────────────────────────────────────────────────────────────────────────────────────────────────────────┘"
      ]
     },
     "execution_count": 10,
     "metadata": {},
     "output_type": "execute_result"
    }
   ],
   "source": [
    "duckdb.sql(\n",
    "f'''select * from carreaux, (SELECT ST_BUFFER(ST_Transform(ST_Point({48.853} , {2.35}),'EPSG:4326', 'EPSG:2154'),{1000}) AS hubblo) '''\\\n",
    "\"where st_intersects(ST_GEOMFROMWKB(carreaux.geometry), hubblo)\"\n",
    ")\n"
   ]
  },
  {
   "cell_type": "code",
   "execution_count": 9,
   "id": "bc6d1e1a",
   "metadata": {},
   "outputs": [
    {
     "data": {
      "application/vnd.jupyter.widget-view+json": {
       "model_id": "441df4dde38e463f82abb7d27994d019",
       "version_major": 2,
       "version_minor": 0
      },
      "text/plain": [
       "FloatProgress(value=0.0, layout=Layout(width='auto'), style=ProgressStyle(bar_color='black'))"
      ]
     },
     "metadata": {},
     "output_type": "display_data"
    },
    {
     "data": {
      "text/plain": [
       "┌──────────────────────┬───────────┬──────────────────────┬───┬────────────────────┬──────────────────────┐\n",
       "│      Idcar_200m      │ I_est_200 │      Idcar_1km       │ … │ __index_level_2__  │        hubblo        │\n",
       "│       varchar        │   int64   │       varchar        │   │       double       │       geometry       │\n",
       "├──────────────────────┼───────────┼──────────────────────┼───┼────────────────────┼──────────────────────┤\n",
       "│ CRS3035RES200mN288…  │         0 │ CRS3035RES1000mN28…  │ … │  6862403.233705901 │ POLYGON ((653304.3…  │\n",
       "│ CRS3035RES200mN288…  │         0 │ CRS3035RES1000mN28…  │ … │  6862384.128485699 │ POLYGON ((653304.3…  │\n",
       "│ CRS3035RES200mN288…  │         0 │ CRS3035RES1000mN28…  │ … │  6862365.022780819 │ POLYGON ((653304.3…  │\n",
       "│ CRS3035RES200mN289…  │         0 │ CRS3035RES1000mN28…  │ … │  6862602.197852682 │ POLYGON ((653304.3…  │\n",
       "│ CRS3035RES200mN289…  │         0 │ CRS3035RES1000mN28…  │ … │  6862621.302782882 │ POLYGON ((653304.3…  │\n",
       "│ CRS3035RES200mN289…  │         0 │ CRS3035RES1000mN28…  │ … │  6862583.092437733 │ POLYGON ((653304.3…  │\n",
       "│ CRS3035RES200mN288…  │         0 │ CRS3035RES1000mN28…  │ … │  6862204.269704873 │ POLYGON ((653304.3…  │\n",
       "│ CRS3035RES200mN288…  │         0 │ CRS3035RES1000mN28…  │ … │  6862185.164679384 │ POLYGON ((653304.3…  │\n",
       "│ CRS3035RES200mN289…  │         0 │ CRS3035RES1000mN28…  │ … │  6862640.407228312 │ POLYGON ((653304.3…  │\n",
       "│ CRS3035RES200mN288…  │         0 │ CRS3035RES1000mN28…  │ … │  6862422.338441405 │ POLYGON ((653304.3…  │\n",
       "│          ·           │         · │          ·           │ · │          ·         │          ·           │\n",
       "│          ·           │         · │          ·           │ · │          ·         │          ·           │\n",
       "│          ·           │         · │          ·           │ · │          ·         │          ·           │\n",
       "│ CRS3035RES200mN288…  │         0 │ CRS3035RES1000mN28…  │ … │  6861569.169206208 │ POLYGON ((653304.3…  │\n",
       "│ CRS3035RES200mN288…  │         0 │ CRS3035RES1000mN28…  │ … │ 6861152.1382668195 │ POLYGON ((653304.3…  │\n",
       "│ CRS3035RES200mN288…  │         0 │ CRS3035RES1000mN28…  │ … │  6861331.995258881 │ POLYGON ((653304.3…  │\n",
       "│ CRS3035RES200mN288…  │         0 │ CRS3035RES1000mN28…  │ … │  6861947.989903212 │ POLYGON ((653304.3…  │\n",
       "│ CRS3035RES200mN288…  │         0 │ CRS3035RES1000mN28…  │ … │  6862146.953174549 │ POLYGON ((653304.3…  │\n",
       "│ CRS3035RES200mN288…  │         0 │ CRS3035RES1000mN28…  │ … │  6861967.095703149 │ POLYGON ((653304.3…  │\n",
       "│ CRS3035RES200mN288…  │         0 │ CRS3035RES1000mN28…  │ … │ 6861787.2375029065 │ POLYGON ((653304.3…  │\n",
       "│ CRS3035RES200mN288…  │         0 │ CRS3035RES1000mN28…  │ … │  6861370.206174888 │ POLYGON ((653304.3…  │\n",
       "│ CRS3035RES200mN288…  │         0 │ CRS3035RES1000mN28…  │ … │  6861171.243288007 │ POLYGON ((653304.3…  │\n",
       "│ CRS3035RES200mN288…  │         0 │ CRS3035RES1000mN28…  │ … │  6861588.274132252 │ POLYGON ((653304.3…  │\n",
       "├──────────────────────┴───────────┴──────────────────────┴───┴────────────────────┴──────────────────────┤\n",
       "│ 95 rows (20 shown)                                                                 42 columns (5 shown) │\n",
       "└─────────────────────────────────────────────────────────────────────────────────────────────────────────┘"
      ]
     },
     "execution_count": 9,
     "metadata": {},
     "output_type": "execute_result"
    }
   ],
   "source": [
    "duckdb.sql(\n",
    "f'''select * from carreaux, (SELECT ST_BUFFER(ST_Transform(ST_Point({latitude} , {longitude}),'EPSG:4326', 'EPSG:2154'),{rayon}) AS hubblo) '''\\\n",
    "\"where st_intersects(ST_GEOMFROMWKB(carreaux.geometry), hubblo)\"\n",
    ")"
   ]
  },
  {
   "cell_type": "code",
   "execution_count": 30,
   "id": "08705755",
   "metadata": {},
   "outputs": [
    {
     "data": {
      "text/plain": [
       "┌─────────┬───────────┐\n",
       "│   dep   │    pop    │\n",
       "│ varchar │  double   │\n",
       "├─────────┼───────────┤\n",
       "│ 01      │  624195.5 │\n",
       "│ 02      │  520062.0 │\n",
       "│ 03      │  330110.5 │\n",
       "│ 04      │  157409.5 │\n",
       "│ 05      │  135605.5 │\n",
       "│ 06      │ 1110195.5 │\n",
       "│ 07      │  315211.0 │\n",
       "│ 08      │  265642.0 │\n",
       "│ 09      │  145288.5 │\n",
       "│ 10      │  293580.5 │\n",
       "│ ·       │      ·    │\n",
       "│ ·       │      ·    │\n",
       "│ ·       │      ·    │\n",
       "│ 86      │  409813.0 │\n",
       "│ 87      │  350617.0 │\n",
       "│ 88      │  359006.0 │\n",
       "│ 89      │  329131.0 │\n",
       "│ 90      │  134097.0 │\n",
       "│ 91      │ 1278632.0 │\n",
       "│ 92      │ 1576971.5 │\n",
       "│ 93      │ 1583813.0 │\n",
       "│ 94      │ 1342502.0 │\n",
       "│ 95      │ 1238555.0 │\n",
       "├─────────┴───────────┤\n",
       "│ 96 rows (20 shown)  │\n",
       "└─────────────────────┘"
      ]
     },
     "execution_count": 30,
     "metadata": {},
     "output_type": "execute_result"
    }
   ],
   "source": [
    "duckdb.sql(\n",
    "f'''select substr(lcog_geo,1,2) as 'dep', sum(Ind) as 'pop' from carreaux group by all order by dep;'''\n",
    ")"
   ]
  },
  {
   "cell_type": "code",
   "execution_count": 14,
   "id": "cf8fc7fc",
   "metadata": {},
   "outputs": [
    {
     "ename": "NameError",
     "evalue": "name 'lgeo_com' is not defined",
     "output_type": "error",
     "traceback": [
      "\u001b[1;31m---------------------------------------------------------------------------\u001b[0m",
      "\u001b[1;31mNameError\u001b[0m                                 Traceback (most recent call last)",
      "\u001b[1;32mC:\\Users\\FRANCO~1.SEM\\AppData\\Local\\Temp/ipykernel_18184/445708849.py\u001b[0m in \u001b[0;36m<module>\u001b[1;34m\u001b[0m\n\u001b[1;32m----> 1\u001b[1;33m \u001b[0mlgeo_com\u001b[0m\u001b[1;33m\u001b[0m\u001b[1;33m\u001b[0m\u001b[0m\n\u001b[0m",
      "\u001b[1;31mNameError\u001b[0m: name 'lgeo_com' is not defined"
     ]
    }
   ],
   "source": [
    "lgeo_com"
   ]
  }
 ],
 "metadata": {
  "kernelspec": {
   "display_name": "Python 3 (ipykernel)",
   "language": "python",
   "name": "python3"
  },
  "language_info": {
   "codemirror_mode": {
    "name": "ipython",
    "version": 3
   },
   "file_extension": ".py",
   "mimetype": "text/x-python",
   "name": "python",
   "nbconvert_exporter": "python",
   "pygments_lexer": "ipython3",
   "version": "3.9.7"
  }
 },
 "nbformat": 4,
 "nbformat_minor": 5
}
