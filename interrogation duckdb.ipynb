{
 "cells": [
  {
   "cell_type": "code",
   "execution_count": 7,
   "id": "e0a205d7",
   "metadata": {},
   "outputs": [
    {
     "name": "stdout",
     "output_type": "stream",
     "text": [
      "Collecting duckdb\n",
      "  Downloading duckdb-0.9.2-cp310-cp310-manylinux_2_17_x86_64.manylinux2014_x86_64.whl.metadata (760 bytes)\n",
      "Downloading duckdb-0.9.2-cp310-cp310-manylinux_2_17_x86_64.manylinux2014_x86_64.whl (16.5 MB)\n",
      "\u001b[2K   \u001b[90m━━━━━━━━━━━━━━━━━━━━━━━━━━━━━━━━━━━━━━━━\u001b[0m \u001b[32m16.5/16.5 MB\u001b[0m \u001b[31m37.6 MB/s\u001b[0m eta \u001b[36m0:00:00\u001b[0m:00:01\u001b[0m00:01\u001b[0m\n",
      "\u001b[?25hInstalling collected packages: duckdb\n",
      "Successfully installed duckdb-0.9.2\n"
     ]
    }
   ],
   "source": [
    "#!pip install geopandas\n",
    "#!pip install duckdb"
   ]
  },
  {
   "cell_type": "code",
   "execution_count": 8,
   "id": "c94b9a0d",
   "metadata": {},
   "outputs": [],
   "source": [
    "import pandas as pd\n",
    "import geopandas as gpd\n",
    "import duckdb "
   ]
  },
  {
   "cell_type": "code",
   "execution_count": 63,
   "id": "b6d7d3c3",
   "metadata": {},
   "outputs": [],
   "source": [
    "duckdb.sql('INSTALL httpfs; LOAD httpfs ;INSTALL spatial; LOAD spatial;')"
   ]
  },
  {
   "cell_type": "code",
   "execution_count": 109,
   "id": "5eaf7446",
   "metadata": {},
   "outputs": [
    {
     "name": "stdout",
     "output_type": "stream",
     "text": [
      "s3://h529p3/data/Filosofi2017_carreaux_200m_partition/bigsquare=662500-6862500/*.parquet?s3_endpoint=minio.lab.sspcloud.fr&s3_region=us-east-1\n"
     ]
    }
   ],
   "source": [
    "#url = \"http://minio.lab.sspcloud.fr/h529p3/data/Filosofi2017_carreaux_200m_met.parquet\"\n",
    "#url = \"http://minio.lab.sspcloud.fr/h529p3/data/F*.parquet\"\n",
    "#url = \"\"\n",
    "#url = \"http://minio.lab.sspcloud.fr/h529p3/data/Filosofi2017_carreaux_200m_partition/bigsquare=662500-6862500/d68e6f93f32447deb1c989d91f737353-0.parquet\"\n",
    "#url = \"http://minio.lab.sspcloud.fr/h529p3/data/Filosofi2017_carreaux_200m_partition/*/*.parquet\"\n",
    "#url = \"Filosofi2017_carreaux_200m_met.parquet\"\n",
    "#url = 's3://h529p3/data/Filosofi2017_carreaux_200m_met.parquet?s3_endpoint=minio.lab.sspcloud.fr&s3_region=us-east-1'\n",
    "url = \"s3://h529p3/data/Filosofi2017_carreaux_200m_partition/bigsquare=662500-6862500/*.parquet?s3_endpoint=minio.lab.sspcloud.fr&s3_region=us-east-1\"\n",
    "print(url)"
   ]
  },
  {
   "cell_type": "code",
   "execution_count": 110,
   "id": "4b4d3967",
   "metadata": {},
   "outputs": [
    {
     "ename": "IOException",
     "evalue": "IO Error: HTTP GET error on '/?encoding-type=url&list-type=2&prefix=data%2FFilosofi2017_carreaux_200m_partition%2Fbigsquare%3D662500-6862500%2F' (HTTP 403)",
     "output_type": "error",
     "traceback": [
      "\u001b[0;31m---------------------------------------------------------------------------\u001b[0m",
      "\u001b[0;31mIOException\u001b[0m                               Traceback (most recent call last)",
      "Cell \u001b[0;32mIn[110], line 1\u001b[0m\n\u001b[0;32m----> 1\u001b[0m \u001b[43mduckdb\u001b[49m\u001b[38;5;241;43m.\u001b[39;49m\u001b[43msql\u001b[49m\u001b[43m(\u001b[49m\u001b[38;5;124;43mf\u001b[39;49m\u001b[38;5;124;43m'''\u001b[39;49m\n\u001b[1;32m      2\u001b[0m \u001b[38;5;124;43m  CREATE OR REPLACE VIEW carreaux\u001b[39;49m\n\u001b[1;32m      3\u001b[0m \u001b[38;5;124;43m  AS SELECT * FROM read_parquet(\u001b[39;49m\u001b[38;5;124;43m\"\u001b[39;49m\u001b[38;5;132;43;01m{\u001b[39;49;00m\u001b[43murl\u001b[49m\u001b[38;5;132;43;01m}\u001b[39;49;00m\u001b[38;5;124;43m\"\u001b[39;49m\u001b[38;5;124;43m, hive_partitioning = 1)\u001b[39;49m\n\u001b[1;32m      4\u001b[0m \u001b[38;5;124;43m'''\u001b[39;49m\n\u001b[1;32m      5\u001b[0m \u001b[43m)\u001b[49m\n",
      "\u001b[0;31mIOException\u001b[0m: IO Error: HTTP GET error on '/?encoding-type=url&list-type=2&prefix=data%2FFilosofi2017_carreaux_200m_partition%2Fbigsquare%3D662500-6862500%2F' (HTTP 403)"
     ]
    }
   ],
   "source": [
    "duckdb.sql(f'''\n",
    "  CREATE OR REPLACE VIEW carreaux\n",
    "  AS SELECT * FROM read_parquet(\"{url}\", hive_partitioning = 1)\n",
    "'''\n",
    ")"
   ]
  },
  {
   "cell_type": "code",
   "execution_count": null,
   "id": "a3683824",
   "metadata": {},
   "outputs": [],
   "source": []
  },
  {
   "cell_type": "code",
   "execution_count": 108,
   "id": "9508755a",
   "metadata": {},
   "outputs": [],
   "source": [
    "carreaux_test = duckdb.sql(\n",
    "  \"SELECT * FROM carreaux\"\n",
    "  ).to_df()\n"
   ]
  },
  {
   "cell_type": "markdown",
   "id": "b898a781",
   "metadata": {},
   "source": [
    "Requetage des carreaux à 1km de notre dame"
   ]
  },
  {
   "cell_type": "code",
   "execution_count": 91,
   "id": "03b38d8d",
   "metadata": {},
   "outputs": [],
   "source": [
    "latitude = 48.853\n",
    "longitude = 2.35\n",
    "rayon = 1000"
   ]
  },
  {
   "cell_type": "code",
   "execution_count": 92,
   "id": "bc6d1e1a",
   "metadata": {},
   "outputs": [
    {
     "ename": "BinderException",
     "evalue": "Binder Error: Referenced column \"bigsquare\" not found in FROM clause!\nCandidate bindings: \"carreaux.Groupe\"",
     "output_type": "error",
     "traceback": [
      "\u001b[0;31m---------------------------------------------------------------------------\u001b[0m",
      "\u001b[0;31mBinderException\u001b[0m                           Traceback (most recent call last)",
      "Cell \u001b[0;32mIn[92], line 1\u001b[0m\n\u001b[0;32m----> 1\u001b[0m test \u001b[38;5;241m=\u001b[39m  \u001b[43mduckdb\u001b[49m\u001b[38;5;241;43m.\u001b[39;49m\u001b[43msql\u001b[49m\u001b[43m(\u001b[49m\n\u001b[1;32m      2\u001b[0m \u001b[38;5;124;43mf\u001b[39;49m\u001b[38;5;124;43m'''\u001b[39;49m\u001b[38;5;124;43mselect * from carreaux, (SELECT ST_BUFFER(ST_Transform(ST_Point(\u001b[39;49m\u001b[38;5;132;43;01m{\u001b[39;49;00m\u001b[43mlatitude\u001b[49m\u001b[38;5;132;43;01m}\u001b[39;49;00m\u001b[38;5;124;43m , \u001b[39;49m\u001b[38;5;132;43;01m{\u001b[39;49;00m\u001b[43mlongitude\u001b[49m\u001b[38;5;132;43;01m}\u001b[39;49;00m\u001b[38;5;124;43m),\u001b[39;49m\u001b[38;5;124;43m'\u001b[39;49m\u001b[38;5;124;43mEPSG:4326\u001b[39;49m\u001b[38;5;124;43m'\u001b[39;49m\u001b[38;5;124;43m, \u001b[39;49m\u001b[38;5;124;43m'\u001b[39;49m\u001b[38;5;124;43mEPSG:2154\u001b[39;49m\u001b[38;5;124;43m'\u001b[39;49m\u001b[38;5;124;43m),\u001b[39;49m\u001b[38;5;132;43;01m{\u001b[39;49;00m\u001b[43mrayon\u001b[49m\u001b[38;5;132;43;01m}\u001b[39;49;00m\u001b[38;5;124;43m) AS hubblo) \u001b[39;49m\u001b[38;5;124;43m'''\u001b[39;49m\u001b[43m\\\u001b[49m\n\u001b[1;32m      3\u001b[0m \u001b[38;5;124;43m\"\u001b[39;49m\u001b[38;5;124;43mwhere st_intersects(ST_GEOMFROMWKB(carreaux.geometry), hubblo) and bigsquare==\u001b[39;49m\u001b[38;5;124;43m'\u001b[39;49m\u001b[38;5;124;43m662500-6862500\u001b[39;49m\u001b[38;5;124;43m'\u001b[39;49m\u001b[38;5;124;43m\"\u001b[39;49m\n\u001b[1;32m      4\u001b[0m \u001b[43m)\u001b[49m\n",
      "\u001b[0;31mBinderException\u001b[0m: Binder Error: Referenced column \"bigsquare\" not found in FROM clause!\nCandidate bindings: \"carreaux.Groupe\""
     ]
    }
   ],
   "source": [
    "test =  duckdb.sql(\n",
    "f'''select * from carreaux, (SELECT ST_BUFFER(ST_Transform(ST_Point({latitude} , {longitude}),'EPSG:4326', 'EPSG:2154'),{rayon}) AS hubblo) '''\\\n",
    "\"where st_intersects(ST_GEOMFROMWKB(carreaux.geometry), hubblo) and bigsquare=='662500-6862500'\"\n",
    ")\n"
   ]
  },
  {
   "cell_type": "code",
   "execution_count": 90,
   "id": "17b277dd",
   "metadata": {},
   "outputs": [
    {
     "ename": "InvalidInputException",
     "evalue": "Invalid Input Error: Attempting to execute an unsuccessful or closed pending query result\nError: Binder Error: Referenced column \"bigsquare\" not found in FROM clause!\nCandidate bindings: \"carreaux.Groupe\"",
     "output_type": "error",
     "traceback": [
      "\u001b[0;31m---------------------------------------------------------------------------\u001b[0m",
      "\u001b[0;31mInvalidInputException\u001b[0m                     Traceback (most recent call last)",
      "File \u001b[0;32m~/.local/lib/python3.10/site-packages/IPython/core/formatters.py:708\u001b[0m, in \u001b[0;36mPlainTextFormatter.__call__\u001b[0;34m(self, obj)\u001b[0m\n\u001b[1;32m    701\u001b[0m stream \u001b[38;5;241m=\u001b[39m StringIO()\n\u001b[1;32m    702\u001b[0m printer \u001b[38;5;241m=\u001b[39m pretty\u001b[38;5;241m.\u001b[39mRepresentationPrinter(stream, \u001b[38;5;28mself\u001b[39m\u001b[38;5;241m.\u001b[39mverbose,\n\u001b[1;32m    703\u001b[0m     \u001b[38;5;28mself\u001b[39m\u001b[38;5;241m.\u001b[39mmax_width, \u001b[38;5;28mself\u001b[39m\u001b[38;5;241m.\u001b[39mnewline,\n\u001b[1;32m    704\u001b[0m     max_seq_length\u001b[38;5;241m=\u001b[39m\u001b[38;5;28mself\u001b[39m\u001b[38;5;241m.\u001b[39mmax_seq_length,\n\u001b[1;32m    705\u001b[0m     singleton_pprinters\u001b[38;5;241m=\u001b[39m\u001b[38;5;28mself\u001b[39m\u001b[38;5;241m.\u001b[39msingleton_printers,\n\u001b[1;32m    706\u001b[0m     type_pprinters\u001b[38;5;241m=\u001b[39m\u001b[38;5;28mself\u001b[39m\u001b[38;5;241m.\u001b[39mtype_printers,\n\u001b[1;32m    707\u001b[0m     deferred_pprinters\u001b[38;5;241m=\u001b[39m\u001b[38;5;28mself\u001b[39m\u001b[38;5;241m.\u001b[39mdeferred_printers)\n\u001b[0;32m--> 708\u001b[0m \u001b[43mprinter\u001b[49m\u001b[38;5;241;43m.\u001b[39;49m\u001b[43mpretty\u001b[49m\u001b[43m(\u001b[49m\u001b[43mobj\u001b[49m\u001b[43m)\u001b[49m\n\u001b[1;32m    709\u001b[0m printer\u001b[38;5;241m.\u001b[39mflush()\n\u001b[1;32m    710\u001b[0m \u001b[38;5;28;01mreturn\u001b[39;00m stream\u001b[38;5;241m.\u001b[39mgetvalue()\n",
      "File \u001b[0;32m~/.local/lib/python3.10/site-packages/IPython/lib/pretty.py:410\u001b[0m, in \u001b[0;36mRepresentationPrinter.pretty\u001b[0;34m(self, obj)\u001b[0m\n\u001b[1;32m    407\u001b[0m                         \u001b[38;5;28;01mreturn\u001b[39;00m meth(obj, \u001b[38;5;28mself\u001b[39m, cycle)\n\u001b[1;32m    408\u001b[0m                 \u001b[38;5;28;01mif\u001b[39;00m \u001b[38;5;28mcls\u001b[39m \u001b[38;5;129;01mis\u001b[39;00m \u001b[38;5;129;01mnot\u001b[39;00m \u001b[38;5;28mobject\u001b[39m \\\n\u001b[1;32m    409\u001b[0m                         \u001b[38;5;129;01mand\u001b[39;00m \u001b[38;5;28mcallable\u001b[39m(\u001b[38;5;28mcls\u001b[39m\u001b[38;5;241m.\u001b[39m\u001b[38;5;18m__dict__\u001b[39m\u001b[38;5;241m.\u001b[39mget(\u001b[38;5;124m'\u001b[39m\u001b[38;5;124m__repr__\u001b[39m\u001b[38;5;124m'\u001b[39m)):\n\u001b[0;32m--> 410\u001b[0m                     \u001b[38;5;28;01mreturn\u001b[39;00m \u001b[43m_repr_pprint\u001b[49m\u001b[43m(\u001b[49m\u001b[43mobj\u001b[49m\u001b[43m,\u001b[49m\u001b[43m \u001b[49m\u001b[38;5;28;43mself\u001b[39;49m\u001b[43m,\u001b[49m\u001b[43m \u001b[49m\u001b[43mcycle\u001b[49m\u001b[43m)\u001b[49m\n\u001b[1;32m    412\u001b[0m     \u001b[38;5;28;01mreturn\u001b[39;00m _default_pprint(obj, \u001b[38;5;28mself\u001b[39m, cycle)\n\u001b[1;32m    413\u001b[0m \u001b[38;5;28;01mfinally\u001b[39;00m:\n",
      "File \u001b[0;32m~/.local/lib/python3.10/site-packages/IPython/lib/pretty.py:778\u001b[0m, in \u001b[0;36m_repr_pprint\u001b[0;34m(obj, p, cycle)\u001b[0m\n\u001b[1;32m    776\u001b[0m \u001b[38;5;250m\u001b[39m\u001b[38;5;124;03m\"\"\"A pprint that just redirects to the normal repr function.\"\"\"\u001b[39;00m\n\u001b[1;32m    777\u001b[0m \u001b[38;5;66;03m# Find newlines and replace them with p.break_()\u001b[39;00m\n\u001b[0;32m--> 778\u001b[0m output \u001b[38;5;241m=\u001b[39m \u001b[38;5;28;43mrepr\u001b[39;49m\u001b[43m(\u001b[49m\u001b[43mobj\u001b[49m\u001b[43m)\u001b[49m\n\u001b[1;32m    779\u001b[0m lines \u001b[38;5;241m=\u001b[39m output\u001b[38;5;241m.\u001b[39msplitlines()\n\u001b[1;32m    780\u001b[0m \u001b[38;5;28;01mwith\u001b[39;00m p\u001b[38;5;241m.\u001b[39mgroup():\n",
      "\u001b[0;31mInvalidInputException\u001b[0m: Invalid Input Error: Attempting to execute an unsuccessful or closed pending query result\nError: Binder Error: Referenced column \"bigsquare\" not found in FROM clause!\nCandidate bindings: \"carreaux.Groupe\""
     ]
    }
   ],
   "source": [
    "test"
   ]
  },
  {
   "cell_type": "code",
   "execution_count": 87,
   "id": "e98a309a",
   "metadata": {},
   "outputs": [
    {
     "data": {
      "text/plain": [
       "'0.9.2'"
      ]
     },
     "execution_count": 87,
     "metadata": {},
     "output_type": "execute_result"
    }
   ],
   "source": [
    "duckdb.__version__"
   ]
  }
 ],
 "metadata": {
  "kernelspec": {
   "display_name": "Python 3 (ipykernel)",
   "language": "python",
   "name": "python3"
  },
  "language_info": {
   "codemirror_mode": {
    "name": "ipython",
    "version": 3
   },
   "file_extension": ".py",
   "mimetype": "text/x-python",
   "name": "python",
   "nbconvert_exporter": "python",
   "pygments_lexer": "ipython3",
   "version": "3.10.13"
  }
 },
 "nbformat": 4,
 "nbformat_minor": 5
}
