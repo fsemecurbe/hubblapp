{
 "cells": [
  {
   "cell_type": "code",
   "execution_count": 2,
   "id": "e0a205d7",
   "metadata": {},
   "outputs": [],
   "source": [
    "#!pip install duckdb --proxy=http://proxyvip.national.agri:8080\n",
    "#!pip install httpfs --proxy=http://proxyvip.national.agri:8080"
   ]
  },
  {
   "cell_type": "code",
   "execution_count": 44,
   "id": "c94b9a0d",
   "metadata": {},
   "outputs": [],
   "source": [
    "import pandas as pd\n",
    "import geopandas as gpd\n",
    "import duckdb "
   ]
  },
  {
   "cell_type": "code",
   "execution_count": 42,
   "id": "b6d7d3c3",
   "metadata": {},
   "outputs": [],
   "source": [
    "duckdb.sql('LOAD httpfs ;INSTALL spatial; LOAD spatial;')"
   ]
  },
  {
   "cell_type": "code",
   "execution_count": 7,
   "id": "5eaf7446",
   "metadata": {},
   "outputs": [],
   "source": [
    "url = \"http://minio.lab.sspcloud.fr/h529p3/data/Filosofi2017_carreaux_200m_met.parquet\"\n",
    "url = \"Filosofi2017_carreaux_200m_met.parquet\""
   ]
  },
  {
   "cell_type": "code",
   "execution_count": 30,
   "id": "4b4d3967",
   "metadata": {},
   "outputs": [],
   "source": [
    "duckdb.sql(f'''\n",
    "  CREATE OR REPLACE VIEW carreaux\n",
    "  AS SELECT * FROM read_parquet(\"{url}\") \n",
    "'''\n",
    ")"
   ]
  },
  {
   "cell_type": "code",
   "execution_count": 31,
   "id": "9508755a",
   "metadata": {},
   "outputs": [],
   "source": [
    "carreaux_test = duckdb.sql(\n",
    "  \"SELECT * FROM carreaux USING SAMPLE 10 ROWS\"\n",
    "  ).to_df()"
   ]
  },
  {
   "cell_type": "code",
   "execution_count": 32,
   "id": "2442b072",
   "metadata": {},
   "outputs": [
    {
     "data": {
      "text/html": [
       "<div>\n",
       "<style scoped>\n",
       "    .dataframe tbody tr th:only-of-type {\n",
       "        vertical-align: middle;\n",
       "    }\n",
       "\n",
       "    .dataframe tbody tr th {\n",
       "        vertical-align: top;\n",
       "    }\n",
       "\n",
       "    .dataframe thead th {\n",
       "        text-align: right;\n",
       "    }\n",
       "</style>\n",
       "<table border=\"1\" class=\"dataframe\">\n",
       "  <thead>\n",
       "    <tr style=\"text-align: right;\">\n",
       "      <th></th>\n",
       "      <th>Idcar_200m</th>\n",
       "      <th>I_est_200</th>\n",
       "      <th>Idcar_1km</th>\n",
       "      <th>I_est_1km</th>\n",
       "      <th>Idcar_nat</th>\n",
       "      <th>Groupe</th>\n",
       "      <th>Ind</th>\n",
       "      <th>Men_1ind</th>\n",
       "      <th>Men_5ind</th>\n",
       "      <th>Men_prop</th>\n",
       "      <th>...</th>\n",
       "      <th>Ind_25_39</th>\n",
       "      <th>Ind_40_54</th>\n",
       "      <th>Ind_55_64</th>\n",
       "      <th>Ind_65_79</th>\n",
       "      <th>Ind_80p</th>\n",
       "      <th>Ind_inc</th>\n",
       "      <th>Men_pauv</th>\n",
       "      <th>Men</th>\n",
       "      <th>lcog_geo</th>\n",
       "      <th>geometry</th>\n",
       "    </tr>\n",
       "  </thead>\n",
       "  <tbody>\n",
       "    <tr>\n",
       "      <th>0</th>\n",
       "      <td>CRS3035RES200mN2644400E3994400</td>\n",
       "      <td>1</td>\n",
       "      <td>CRS3035RES1000mN2644000E3994000</td>\n",
       "      <td>0</td>\n",
       "      <td>CRS3035RES8000mN2640000E3992000</td>\n",
       "      <td>663127</td>\n",
       "      <td>9.0</td>\n",
       "      <td>0.6</td>\n",
       "      <td>0.2</td>\n",
       "      <td>3.2</td>\n",
       "      <td>...</td>\n",
       "      <td>1.4</td>\n",
       "      <td>1.6</td>\n",
       "      <td>1.0</td>\n",
       "      <td>2.1</td>\n",
       "      <td>1.0</td>\n",
       "      <td>0.0</td>\n",
       "      <td>0.6</td>\n",
       "      <td>3.8</td>\n",
       "      <td>3954839434</td>\n",
       "      <td>[1, 3, 0, 0, 0, 1, 0, 0, 0, 5, 0, 0, 0, 59, 18...</td>\n",
       "    </tr>\n",
       "    <tr>\n",
       "      <th>1</th>\n",
       "      <td>CRS3035RES200mN2937600E3784000</td>\n",
       "      <td>0</td>\n",
       "      <td>CRS3035RES1000mN2937000E3784000</td>\n",
       "      <td>0</td>\n",
       "      <td>CRS3035RES4000mN2936000E3784000</td>\n",
       "      <td>930411</td>\n",
       "      <td>128.0</td>\n",
       "      <td>19.0</td>\n",
       "      <td>3.0</td>\n",
       "      <td>35.0</td>\n",
       "      <td>...</td>\n",
       "      <td>22.0</td>\n",
       "      <td>33.0</td>\n",
       "      <td>11.0</td>\n",
       "      <td>11.0</td>\n",
       "      <td>5.0</td>\n",
       "      <td>0.0</td>\n",
       "      <td>7.0</td>\n",
       "      <td>56.0</td>\n",
       "      <td>60509</td>\n",
       "      <td>[1, 3, 0, 0, 0, 1, 0, 0, 0, 5, 0, 0, 0, 121, 1...</td>\n",
       "    </tr>\n",
       "    <tr>\n",
       "      <th>2</th>\n",
       "      <td>CRS3035RES200mN2347400E3567000</td>\n",
       "      <td>1</td>\n",
       "      <td>CRS3035RES1000mN2347000E3567000</td>\n",
       "      <td>1</td>\n",
       "      <td>CRS3035RES2000mN2346000E3566000</td>\n",
       "      <td>204905</td>\n",
       "      <td>3.0</td>\n",
       "      <td>0.5</td>\n",
       "      <td>0.1</td>\n",
       "      <td>1.3</td>\n",
       "      <td>...</td>\n",
       "      <td>0.2</td>\n",
       "      <td>0.4</td>\n",
       "      <td>0.7</td>\n",
       "      <td>0.8</td>\n",
       "      <td>0.4</td>\n",
       "      <td>0.0</td>\n",
       "      <td>0.2</td>\n",
       "      <td>1.5</td>\n",
       "      <td>32132</td>\n",
       "      <td>[1, 3, 0, 0, 0, 1, 0, 0, 0, 5, 0, 0, 0, 170, 4...</td>\n",
       "    </tr>\n",
       "    <tr>\n",
       "      <th>3</th>\n",
       "      <td>CRS3035RES200mN2566400E4028400</td>\n",
       "      <td>1</td>\n",
       "      <td>CRS3035RES1000mN2566000E4028000</td>\n",
       "      <td>0</td>\n",
       "      <td>CRS3035RES1000mN2566000E4028000</td>\n",
       "      <td>626653</td>\n",
       "      <td>19.5</td>\n",
       "      <td>2.6</td>\n",
       "      <td>0.6</td>\n",
       "      <td>6.8</td>\n",
       "      <td>...</td>\n",
       "      <td>2.7</td>\n",
       "      <td>4.1</td>\n",
       "      <td>3.7</td>\n",
       "      <td>2.0</td>\n",
       "      <td>1.0</td>\n",
       "      <td>0.0</td>\n",
       "      <td>0.6</td>\n",
       "      <td>7.8</td>\n",
       "      <td>74185</td>\n",
       "      <td>[1, 3, 0, 0, 0, 1, 0, 0, 0, 5, 0, 0, 0, 132, 1...</td>\n",
       "    </tr>\n",
       "    <tr>\n",
       "      <th>4</th>\n",
       "      <td>CRS3035RES200mN2622800E3517600</td>\n",
       "      <td>1</td>\n",
       "      <td>CRS3035RES1000mN2622000E3517000</td>\n",
       "      <td>0</td>\n",
       "      <td>CRS3035RES4000mN2620000E3516000</td>\n",
       "      <td>652162</td>\n",
       "      <td>13.0</td>\n",
       "      <td>0.9</td>\n",
       "      <td>0.1</td>\n",
       "      <td>4.1</td>\n",
       "      <td>...</td>\n",
       "      <td>3.3</td>\n",
       "      <td>2.9</td>\n",
       "      <td>1.2</td>\n",
       "      <td>1.0</td>\n",
       "      <td>0.6</td>\n",
       "      <td>0.1</td>\n",
       "      <td>0.4</td>\n",
       "      <td>5.2</td>\n",
       "      <td>79166</td>\n",
       "      <td>[1, 3, 0, 0, 0, 1, 0, 0, 0, 5, 0, 0, 0, 165, 8...</td>\n",
       "    </tr>\n",
       "  </tbody>\n",
       "</table>\n",
       "<p>5 rows × 36 columns</p>\n",
       "</div>"
      ],
      "text/plain": [
       "                       Idcar_200m  I_est_200                        Idcar_1km  \\\n",
       "0  CRS3035RES200mN2644400E3994400          1  CRS3035RES1000mN2644000E3994000   \n",
       "1  CRS3035RES200mN2937600E3784000          0  CRS3035RES1000mN2937000E3784000   \n",
       "2  CRS3035RES200mN2347400E3567000          1  CRS3035RES1000mN2347000E3567000   \n",
       "3  CRS3035RES200mN2566400E4028400          1  CRS3035RES1000mN2566000E4028000   \n",
       "4  CRS3035RES200mN2622800E3517600          1  CRS3035RES1000mN2622000E3517000   \n",
       "\n",
       "   I_est_1km                        Idcar_nat  Groupe    Ind  Men_1ind  \\\n",
       "0          0  CRS3035RES8000mN2640000E3992000  663127    9.0       0.6   \n",
       "1          0  CRS3035RES4000mN2936000E3784000  930411  128.0      19.0   \n",
       "2          1  CRS3035RES2000mN2346000E3566000  204905    3.0       0.5   \n",
       "3          0  CRS3035RES1000mN2566000E4028000  626653   19.5       2.6   \n",
       "4          0  CRS3035RES4000mN2620000E3516000  652162   13.0       0.9   \n",
       "\n",
       "   Men_5ind  Men_prop  ...  Ind_25_39  Ind_40_54  Ind_55_64  Ind_65_79  \\\n",
       "0       0.2       3.2  ...        1.4        1.6        1.0        2.1   \n",
       "1       3.0      35.0  ...       22.0       33.0       11.0       11.0   \n",
       "2       0.1       1.3  ...        0.2        0.4        0.7        0.8   \n",
       "3       0.6       6.8  ...        2.7        4.1        3.7        2.0   \n",
       "4       0.1       4.1  ...        3.3        2.9        1.2        1.0   \n",
       "\n",
       "   Ind_80p  Ind_inc  Men_pauv   Men    lcog_geo  \\\n",
       "0      1.0      0.0       0.6   3.8  3954839434   \n",
       "1      5.0      0.0       7.0  56.0       60509   \n",
       "2      0.4      0.0       0.2   1.5       32132   \n",
       "3      1.0      0.0       0.6   7.8       74185   \n",
       "4      0.6      0.1       0.4   5.2       79166   \n",
       "\n",
       "                                            geometry  \n",
       "0  [1, 3, 0, 0, 0, 1, 0, 0, 0, 5, 0, 0, 0, 59, 18...  \n",
       "1  [1, 3, 0, 0, 0, 1, 0, 0, 0, 5, 0, 0, 0, 121, 1...  \n",
       "2  [1, 3, 0, 0, 0, 1, 0, 0, 0, 5, 0, 0, 0, 170, 4...  \n",
       "3  [1, 3, 0, 0, 0, 1, 0, 0, 0, 5, 0, 0, 0, 132, 1...  \n",
       "4  [1, 3, 0, 0, 0, 1, 0, 0, 0, 5, 0, 0, 0, 165, 8...  \n",
       "\n",
       "[5 rows x 36 columns]"
      ]
     },
     "execution_count": 32,
     "metadata": {},
     "output_type": "execute_result"
    }
   ],
   "source": [
    "carreaux_test.head()"
   ]
  },
  {
   "cell_type": "markdown",
   "id": "b898a781",
   "metadata": {},
   "source": [
    "Requetage des carreaux à 1km de notre dame"
   ]
  },
  {
   "cell_type": "code",
   "execution_count": 48,
   "id": "03b38d8d",
   "metadata": {},
   "outputs": [],
   "source": [
    "latitude = 48.853\n",
    "longitude = 2.35\n",
    "rayon = 1000"
   ]
  },
  {
   "cell_type": "code",
   "execution_count": 51,
   "id": "bc6d1e1a",
   "metadata": {},
   "outputs": [
    {
     "data": {
      "application/vnd.jupyter.widget-view+json": {
       "model_id": "87855e6491a9491faabea60b5ba2e233",
       "version_major": 2,
       "version_minor": 0
      },
      "text/plain": [
       "FloatProgress(value=0.0, layout=Layout(width='auto'), style=ProgressStyle(bar_color='black'))"
      ]
     },
     "metadata": {},
     "output_type": "display_data"
    },
    {
     "data": {
      "text/plain": [
       "┌──────────────────────┬───────────┬───┬─────────────────┬──────────────────────┬──────────────────────┐\n",
       "│      Idcar_200m      │ I_est_200 │ … │    lcog_geo     │       geometry       │        hubblo        │\n",
       "│       varchar        │   int64   │   │     varchar     │         blob         │       geometry       │\n",
       "├──────────────────────┼───────────┼───┼─────────────────┼──────────────────────┼──────────────────────┤\n",
       "│ CRS3035RES200mN288…  │         0 │ … │ 75105           │ \\x01\\x03\\x00\\x00\\x…  │ POLYGON ((653304.3…  │\n",
       "│ CRS3035RES200mN288…  │         0 │ … │ 75105           │ \\x01\\x03\\x00\\x00\\x…  │ POLYGON ((653304.3…  │\n",
       "│ CRS3035RES200mN288…  │         0 │ … │ 75105           │ \\x01\\x03\\x00\\x00\\x…  │ POLYGON ((653304.3…  │\n",
       "│ CRS3035RES200mN288…  │         0 │ … │ 75105           │ \\x01\\x03\\x00\\x00\\x…  │ POLYGON ((653304.3…  │\n",
       "│ CRS3035RES200mN288…  │         0 │ … │ 75105           │ \\x01\\x03\\x00\\x00\\x…  │ POLYGON ((653304.3…  │\n",
       "│ CRS3035RES200mN288…  │         0 │ … │ 75105           │ \\x01\\x03\\x00\\x00\\x…  │ POLYGON ((653304.3…  │\n",
       "│ CRS3035RES200mN288…  │         0 │ … │ 75105           │ \\x01\\x03\\x00\\x00\\x…  │ POLYGON ((653304.3…  │\n",
       "│ CRS3035RES200mN288…  │         0 │ … │ 75105           │ \\x01\\x03\\x00\\x00\\x…  │ POLYGON ((653304.3…  │\n",
       "│ CRS3035RES200mN288…  │         0 │ … │ 75105           │ \\x01\\x03\\x00\\x00\\x…  │ POLYGON ((653304.3…  │\n",
       "│ CRS3035RES200mN288…  │         0 │ … │ 75105           │ \\x01\\x03\\x00\\x00\\x…  │ POLYGON ((653304.3…  │\n",
       "│          ·           │         · │ · │   ·             │          ·           │          ·           │\n",
       "│          ·           │         · │ · │   ·             │          ·           │          ·           │\n",
       "│          ·           │         · │ · │   ·             │          ·           │          ·           │\n",
       "│ CRS3035RES200mN288…  │         0 │ … │ 7510475101      │ \\x01\\x03\\x00\\x00\\x…  │ POLYGON ((653304.3…  │\n",
       "│ CRS3035RES200mN288…  │         0 │ … │ 7510475103      │ \\x01\\x03\\x00\\x00\\x…  │ POLYGON ((653304.3…  │\n",
       "│ CRS3035RES200mN288…  │         0 │ … │ 7510375104      │ \\x01\\x03\\x00\\x00\\x…  │ POLYGON ((653304.3…  │\n",
       "│ CRS3035RES200mN288…  │         0 │ … │ 75103           │ \\x01\\x03\\x00\\x00\\x…  │ POLYGON ((653304.3…  │\n",
       "│ CRS3035RES200mN289…  │         0 │ … │ 75101           │ \\x01\\x03\\x00\\x00\\x…  │ POLYGON ((653304.3…  │\n",
       "│ CRS3035RES200mN289…  │         0 │ … │ 75101           │ \\x01\\x03\\x00\\x00\\x…  │ POLYGON ((653304.3…  │\n",
       "│ CRS3035RES200mN289…  │         0 │ … │ 75101           │ \\x01\\x03\\x00\\x00\\x…  │ POLYGON ((653304.3…  │\n",
       "│ CRS3035RES200mN289…  │         0 │ … │ 751017510375104 │ \\x01\\x03\\x00\\x00\\x…  │ POLYGON ((653304.3…  │\n",
       "│ CRS3035RES200mN289…  │         0 │ … │ 7510375104      │ \\x01\\x03\\x00\\x00\\x…  │ POLYGON ((653304.3…  │\n",
       "│ CRS3035RES200mN289…  │         0 │ … │ 75103           │ \\x01\\x03\\x00\\x00\\x…  │ POLYGON ((653304.3…  │\n",
       "├──────────────────────┴───────────┴───┴─────────────────┴──────────────────────┴──────────────────────┤\n",
       "│ 95 rows (20 shown)                                                              37 columns (5 shown) │\n",
       "└──────────────────────────────────────────────────────────────────────────────────────────────────────┘"
      ]
     },
     "execution_count": 51,
     "metadata": {},
     "output_type": "execute_result"
    }
   ],
   "source": [
    "duckdb.sql(\n",
    "f'''select * from carreaux, (SELECT ST_BUFFER(ST_Transform(ST_Point({latitude} , {longitude}),'EPSG:4326', 'EPSG:2154'),{rayon}) AS hubblo) '''\\\n",
    "\"where st_intersects(ST_GEOMFROMWKB(carreaux.geometry), hubblo)\"\n",
    "\n",
    ")"
   ]
  },
  {
   "cell_type": "code",
   "execution_count": 16,
   "id": "201895d2",
   "metadata": {},
   "outputs": [
    {
     "data": {
      "text/plain": [
       "'0.9.2'"
      ]
     },
     "execution_count": 16,
     "metadata": {},
     "output_type": "execute_result"
    }
   ],
   "source": [
    "duckdb.__version__"
   ]
  }
 ],
 "metadata": {
  "kernelspec": {
   "display_name": "Python 3 (ipykernel)",
   "language": "python",
   "name": "python3"
  },
  "language_info": {
   "codemirror_mode": {
    "name": "ipython",
    "version": 3
   },
   "file_extension": ".py",
   "mimetype": "text/x-python",
   "name": "python",
   "nbconvert_exporter": "python",
   "pygments_lexer": "ipython3",
   "version": "3.9.7"
  }
 },
 "nbformat": 4,
 "nbformat_minor": 5
}
