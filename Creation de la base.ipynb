{
 "cells": [
  {
   "cell_type": "code",
   "execution_count": 1,
   "id": "50a57763",
   "metadata": {},
   "outputs": [],
   "source": [
    "import pandas as pd\n",
    "import geopandas as gpd "
   ]
  },
  {
   "cell_type": "code",
   "execution_count": 3,
   "id": "ab85b3ab",
   "metadata": {},
   "outputs": [],
   "source": [
    "df = gpd.read_file('Filosofi2017_carreaux_200m_met.shp')"
   ]
  },
  {
   "cell_type": "code",
   "execution_count": 4,
   "id": "d463b408",
   "metadata": {},
   "outputs": [
    {
     "name": "stderr",
     "output_type": "stream",
     "text": [
      "C:\\Users\\FRANCO~1.SEM\\AppData\\Local\\Temp/ipykernel_20632/1538984933.py:1: UserWarning: this is an initial implementation of Parquet/Feather file support and associated metadata.  This is tracking version 0.1.0 of the metadata specification at https://github.com/geopandas/geo-arrow-spec\n",
      "\n",
      "This metadata specification does not yet make stability promises.  We do not yet recommend using this in a production setting unless you are able to rewrite your Parquet/Feather files.\n",
      "\n",
      "To further ignore this warning, you can do: \n",
      "import warnings; warnings.filterwarnings('ignore', message='.*initial implementation of Parquet.*')\n",
      "  df.to_parquet('Filosofi2017_carreaux_200m_met.parquet')\n"
     ]
    }
   ],
   "source": [
    "df.to_parquet('Filosofi2017_carreaux_200m_met.parquet')  "
   ]
  }
 ],
 "metadata": {
  "kernelspec": {
   "display_name": "Python 3 (ipykernel)",
   "language": "python",
   "name": "python3"
  },
  "language_info": {
   "codemirror_mode": {
    "name": "ipython",
    "version": 3
   },
   "file_extension": ".py",
   "mimetype": "text/x-python",
   "name": "python",
   "nbconvert_exporter": "python",
   "pygments_lexer": "ipython3",
   "version": "3.9.7"
  }
 },
 "nbformat": 4,
 "nbformat_minor": 5
}
